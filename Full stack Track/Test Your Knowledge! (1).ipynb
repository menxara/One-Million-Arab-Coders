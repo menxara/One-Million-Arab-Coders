{
 "cells": [
  {
   "cell_type": "markdown",
   "metadata": {},
   "source": [
    "# Task 1:\n",
    "\n",
    "### You are required to complete the function reverse(x). given a string \"x\" as an input it is expected to return that same string but reversed.\n",
    "\n",
    "### Example:\n",
    "#### input : \"again\"\n",
    "#### output: \"niaga\"\n",
    "\n",
    "##### you can change the string value in the variable `text` but you are not allowed to change the variable names or edit any other code, except the function's body, doing so may jeopardize your evaluation."
   ]
  },
  {
   "cell_type": "code",
   "execution_count": 7,
   "metadata": {
    "edited": true,
    "gradable": true,
    "grader_id": "0ixdmp56d14k",
    "udacity_user_query": ""
   },
   "outputs": [
    {
     "name": "stdout",
     "output_type": "stream",
     "text": [
      "the reversed text is: txet desrever a ton si siht\n"
     ]
    }
   ],
   "source": [
    "text = \"this is not a reversed text\"\n",
    "\n",
    "def reverse(x):\n",
    "   \n",
    "    #complete this function so that it takes string x as an input \n",
    "    #and returns its reverse\n",
    "    return x[::-1]\n",
    "    \n",
    "    n = x.reverse(text)\n",
    "\n",
    "print(\"the reversed text is: \"+reverse(text))"
   ]
  },
  {
   "cell_type": "markdown",
   "metadata": {},
   "source": [
    "# Task 2:\n",
    "\n",
    "### You are required to complete the function average(x). where \"x\" is a list of numbers, and contains more than 3 numbers. the function is expected to return the average from that list.\n",
    "\n",
    "### Example:\n",
    "#### input : [10,20,30,40]\n",
    "#### output: 25\n",
    "\n",
    "##### you can change the numbers in the list `no_list` but you are not allowed to change the variable names or edit any other code, except the function's body, doing so may jeopardize your evaluation"
   ]
  },
  {
   "cell_type": "code",
   "execution_count": 4,
   "metadata": {
    "edited": true,
    "gradable": true,
    "grader_id": "qikolrpeyx",
    "udacity_user_query": ""
   },
   "outputs": [
    {
     "name": "stdout",
     "output_type": "stream",
     "text": [
      "72.66666666666667\n"
     ]
    }
   ],
   "source": [
    "no_list = [22,68,90,78,90,88]\n",
    "\n",
    "def average(x):\n",
    "    #complete the function's body to return the average\n",
    "\n",
    "    x = sum(no_list)/len(no_list)\n",
    "    return x\n",
    "print(average(no_list))"
   ]
  },
  {
   "cell_type": "markdown",
   "metadata": {},
   "source": [
    "# Task 3:\n",
    "\n",
    "### You are required to complete the function maximum(x). where \"x\" is a list of numbers, and contains more than 2 numbers. the function is expected to return the highest number in that list.\n",
    "\n",
    "### Example:\n",
    "#### input : [5,20,12,6]\n",
    "#### output: 20\n",
    "\n",
    "##### you can change the numbers in the list `no_list` but you are not allowed to change the variable names or edit any other code, except the function's body, doing so may jeopardize your evaluation"
   ]
  },
  {
   "cell_type": "code",
   "execution_count": 14,
   "metadata": {
    "edited": true,
    "gradable": true,
    "grader_id": "tsmr6ajlhw",
    "udacity_user_query": ""
   },
   "outputs": [
    {
     "name": "stdout",
     "output_type": "stream",
     "text": [
      "4\n"
     ]
    }
   ],
   "source": [
    "no_list = [1,2,3,4]\n",
    "\n",
    "def maximum(no_list):\n",
    "    #complete the function to return the highest number in the list\n",
    "    x = max(no_list)\n",
    "    return x\n",
    "print(maximum(no_list))"
   ]
  },
  {
   "cell_type": "markdown",
   "metadata": {},
   "source": [
    "# Task 4:\n",
    "\n",
    "### You are required to complete the function unique_list(l). where \"l\" is a list of numbers. the function is expected to return the unique numbers in that list.\n",
    "\n",
    "### Example:\n",
    "#### input : [1,1,1,2,2,3,3,3,3,4,5,5,6]\n",
    "#### output: [1,2,3,4,5,6]\n",
    "\n",
    "#####  you are not allowed to change the variable names or their values or edit any other code, except the function's body, doing so may jeopardize your evaluation"
   ]
  },
  {
   "cell_type": "code",
   "execution_count": 19,
   "metadata": {
    "edited": true,
    "gradable": true,
    "grader_id": "mibxa2ona8",
    "udacity_user_query": ""
   },
   "outputs": [
    {
     "name": "stdout",
     "output_type": "stream",
     "text": [
      "[22, 2, 1, 11, 3, 4, 5, 55, 66]\n"
     ]
    }
   ],
   "source": [
    "no_list = [22,22,2,1,11,11,2,2,3,3,3,4,5,5,5,55,55,66]\n",
    "\n",
    "def unique_list(l):\n",
    "  #complete the function's body to return the unique list of numbers\n",
    "   x = []\n",
    "   for a in l:\n",
    "    if a not in x:\n",
    "      x.append(a)\n",
    "   return x\n",
    "print(unique_list(no_list))"
   ]
  },
  {
   "cell_type": "code",
   "execution_count": null,
   "metadata": {
    "grader_id": "oecq1bphntq"
   },
   "outputs": [],
   "source": []
  },
  {
   "cell_type": "code",
   "execution_count": null,
   "metadata": {},
   "outputs": [],
   "source": []
  }
 ],
 "metadata": {
  "grader_mode": "",
  "kernelspec": {
   "display_name": "Python 3",
   "language": "python",
   "name": "python3"
  },
  "language_info": {
   "codemirror_mode": {
    "name": "ipython",
    "version": 3
   },
   "file_extension": ".py",
   "mimetype": "text/x-python",
   "name": "python",
   "nbconvert_exporter": "python",
   "pygments_lexer": "ipython3",
   "version": "3.6.3"
  },
  "showGradeBtn": true
 },
 "nbformat": 4,
 "nbformat_minor": 2
}
